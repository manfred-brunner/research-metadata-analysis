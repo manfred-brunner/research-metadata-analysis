{
 "cells": [
  {
   "cell_type": "markdown",
   "metadata": {},
   "source": [
    "#Welcome to the MPDL project"
   ]
  },
  {
   "cell_type": "markdown",
   "metadata": {},
   "source": [
    "First We are going to fetch data from Springer"
   ]
  },
  {
   "cell_type": "code",
   "execution_count": null,
   "metadata": {},
   "outputs": [],
   "source": [
    "%pip install springernature-api-client"
   ]
  },
  {
   "cell_type": "code",
   "execution_count": null,
   "metadata": {},
   "outputs": [],
   "source": [
    "import os\n",
    "from dotenv import load_dotenv\n",
    "\n",
    "load_dotenv()\n",
    "API_KEY = os.getenv(\"SPRINGER_API_KEY\")\n"
   ]
  },
  {
   "cell_type": "code",
   "execution_count": 3,
   "metadata": {},
   "outputs": [],
   "source": [
    "import springernature_api_client.metadata as metadata\n",
    "import springernature_api_client.openaccess as openaccess\n",
    "import springernature_api_client.meta as meta\n",
    "import springernature_api_client.tdm as tdm\n",
    "\n",
    "\n",
    "\n",
    "# Initialize different API clients\n",
    "openaccess_client = openaccess.OpenAccessAPI(api_key=API_KEY)\n",
    "#meta_client = meta.MetaAPI(api_key=API_KEY)\n",
    "#metadata_client = metadata.MetadataAPI(api_key=API_KEY)\n",
    "#tdm_client = tdm.TdmAPI(api_key=API_KEY)\n"
   ]
  },
  {
   "cell_type": "markdown",
   "metadata": {},
   "source": [
    "we use climate change data in our example"
   ]
  },
  {
   "cell_type": "code",
   "execution_count": 4,
   "metadata": {},
   "outputs": [
    {
     "name": "stderr",
     "output_type": "stream",
     "text": [
      "2025-03-22 14:39:32,712 - INFO - Making request to: https://api.springernature.com/openaccess/json with params: {'q': 'climate change', 'p': 20, 's': 1, 'api_key': '46861e50f23a7cc918b1b44c39fa6f13'}\n"
     ]
    },
    {
     "name": "stdout",
     "output_type": "stream",
     "text": [
      "Fetching openaccess: query='climate change', page=20, start=1\n"
     ]
    }
   ],
   "source": [
    "response = openaccess_client.search(q=\"climate change\", p=20, s=1, fetch_all=False, is_premium=False)\n"
   ]
  },
  {
   "cell_type": "code",
   "execution_count": null,
   "metadata": {},
   "outputs": [],
   "source": [
    "import pandas as pd\n",
    "\n",
    "# Convert response to DataFrame\n",
    "if \"records\" in response:\n",
    "    df = pd.DataFrame(response[\"records\"])\n",
    "    print(df.head())\n",
    "\n",
    "    # Save to a JSON file\n",
    "    df.to_json(\"springer_data.json\", orient=\"records\", indent=4)\n",
    "\n",
    "    # Save to a CSV file\n",
    "    df.to_csv(\"springer_data.csv\", index=False)\n",
    "\n",
    "    print(\"Data saved successfully!\")\n"
   ]
  },
  {
   "cell_type": "markdown",
   "metadata": {},
   "source": [
    "next we perform data cleaning"
   ]
  },
  {
   "cell_type": "code",
   "execution_count": 14,
   "metadata": {},
   "outputs": [
    {
     "name": "stdout",
     "output_type": "stream",
     "text": [
      "✅ Climate Change data successfully cleaned and saved!\n",
      "  contentType                      identifier language  \\\n",
      "0     Article  doi:10.1007/s10750-024-05641-z       en   \n",
      "1     Article  doi:10.1007/s10750-024-05505-6       en   \n",
      "2     Article  doi:10.1007/s10750-024-05580-9       en   \n",
      "3     Article  doi:10.1007/s10750-024-05533-2       en   \n",
      "4     Article  doi:10.1007/s10750-024-05658-4       en   \n",
      "\n",
      "                                            url  \\\n",
      "0  http://dx.doi.org/10.1007/s10750-024-05641-z   \n",
      "1  http://dx.doi.org/10.1007/s10750-024-05505-6   \n",
      "2  http://dx.doi.org/10.1007/s10750-024-05580-9   \n",
      "3  http://dx.doi.org/10.1007/s10750-024-05533-2   \n",
      "4  http://dx.doi.org/10.1007/s10750-024-05658-4   \n",
      "\n",
      "                                               title  \\\n",
      "0  Multi-method distribution modelling of an inva...   \n",
      "1  Assessing the impact of the invasive ctenophor...   \n",
      "2  Differential survival of Ilyanassa obsoleta to...   \n",
      "3  Movements and habitat use of native and invasi...   \n",
      "4  Stable isotope analysis reveals fish juveniles...   \n",
      "\n",
      "                                            creators publicationName subjects  \n",
      "0  Hodson, J., South, J., Cancellario, T., Guares...   Hydrobiologia           \n",
      "1  Piccardi, F., Poli, F., Sguotti, C., Tirelli, ...   Hydrobiologia           \n",
      "2  Lee, Timothy S., Fowler, Amy E., Largen, Jessi...   Hydrobiologia           \n",
      "3  Nolan, Emma T., Hindes, Andrew M., Bolland, Jo...   Hydrobiologia           \n",
      "4  Hnilička, Michal, Janáč, Michal, Palupová, Eva...   Hydrobiologia           \n"
     ]
    }
   ],
   "source": [
    "import json\n",
    "import pandas as pd\n",
    "\n",
    "# Load the previously fetched Springer data\n",
    "with open(\"springer_data.json\", \"r\", encoding=\"utf-8\") as f:\n",
    "    data = json.load(f)\n",
    "\n",
    "# Ensure data format\n",
    "if isinstance(data, dict) and \"records\" in data:\n",
    "    records = data[\"records\"]  # Extract records list\n",
    "elif isinstance(data, list):\n",
    "    records = data  # Data is already a list\n",
    "else:\n",
    "    raise ValueError(\"Unexpected data format: Expected a list or dictionary with 'records' key.\")\n",
    "\n",
    "# Convert to DataFrame\n",
    "df = pd.DataFrame(records)\n",
    "\n",
    "# Handle missing keys safely\n",
    "df[\"url\"] = df[\"url\"].apply(lambda x: x[0][\"value\"] if isinstance(x, list) and x else None)\n",
    "df[\"creators\"] = df[\"creators\"].apply(lambda x: \", \".join([c.get(\"creator\", \"\") for c in x]) if isinstance(x, list) else None)\n",
    "\n",
    "# 🛠 **Fix for subjects column**\n",
    "def extract_subjects(x):\n",
    "    if isinstance(x, list):  # Ensure x is a list\n",
    "        return \", \".join([s.get(\"term\", \"\") for s in x if isinstance(s, dict)])  # Extract terms safely\n",
    "    elif isinstance(x, str):  # If it's a string, return it directly\n",
    "        return x\n",
    "    else:\n",
    "        return None  # Return None for unexpected formats\n",
    "\n",
    "df[\"subjects\"] = df[\"subjects\"].apply(extract_subjects)\n",
    "\n",
    "# Select relevant columns (handle missing columns safely)\n",
    "columns_to_keep = [\"contentType\", \"identifier\", \"language\", \"url\", \"title\", \"creators\", \"publicationName\", \"subjects\"]\n",
    "df_cleaned = df[[col for col in columns_to_keep if col in df.columns]]\n",
    "\n",
    "# Save cleaned data\n",
    "df_cleaned.to_json(\"springer_data_clean.json\", orient=\"records\", indent=4)\n",
    "df_cleaned.to_csv(\"springer_data_clean.csv\", index=False)\n",
    "\n",
    "print(\"✅ Climate Change data successfully cleaned and saved!\")\n",
    "print(df_cleaned.head())\n",
    "\n",
    "\n"
   ]
  },
  {
   "cell_type": "markdown",
   "metadata": {},
   "source": [
    "I have already installed PostgreSQL17 and pgAdmin on my windows machine"
   ]
  },
  {
   "cell_type": "markdown",
   "metadata": {},
   "source": [
    "start the database server (if not already). default is port 5432"
   ]
  },
  {
   "cell_type": "code",
   "execution_count": null,
   "metadata": {},
   "outputs": [],
   "source": [
    "%pip install psycopg2-binary\n"
   ]
  },
  {
   "cell_type": "code",
   "execution_count": 17,
   "metadata": {},
   "outputs": [],
   "source": [
    "import psycopg2"
   ]
  },
  {
   "cell_type": "markdown",
   "metadata": {},
   "source": [
    "Do a quick check"
   ]
  },
  {
   "cell_type": "code",
   "execution_count": 20,
   "metadata": {},
   "outputs": [
    {
     "name": "stdout",
     "output_type": "stream",
     "text": [
      "✅ Connected to PostgreSQL successfully!\n"
     ]
    }
   ],
   "source": [
    "import psycopg2\n",
    "\n",
    "conn = psycopg2.connect(\n",
    "    dbname=\"research_metadata\",\n",
    "    user=\"postgres\",\n",
    "    password=\"password123\",\n",
    "    host=\"localhost\",\n",
    "    port=\"5432\"  # Use the port you found in pgAdmin\n",
    ")\n",
    "\n",
    "print(\"✅ Connected to PostgreSQL successfully!\")\n",
    "conn.close()\n"
   ]
  },
  {
   "cell_type": "code",
   "execution_count": 23,
   "metadata": {},
   "outputs": [
    {
     "name": "stdout",
     "output_type": "stream",
     "text": [
      "✅ Connected to PostgreSQL!\n",
      "✅ Data successfully inserted into PostgreSQL!\n",
      "🔌 PostgreSQL connection closed.\n"
     ]
    }
   ],
   "source": [
    "import psycopg2\n",
    "import pandas as pd\n",
    "import os\n",
    "from dotenv import load_dotenv\n",
    "\n",
    "load_dotenv()\n",
    "DB_PASSWORD = os.getenv(\"DB_PASSWORD\")\n",
    "\n",
    "# 🛠 PostgreSQL connection details\n",
    "DB_NAME = \"research_metadata\"\n",
    "DB_USER = \"postgres\"\n",
    "DB_HOST = \"localhost\"\n",
    "DB_PORT = \"5432\"  # Change if your PostgreSQL is using a different port\n",
    "\n",
    "# Load cleaned CSV data\n",
    "df = pd.read_csv(\"springer_data_clean.csv\")\n",
    "\n",
    "try:\n",
    "    # 🟢 Connect to PostgreSQL\n",
    "    conn = psycopg2.connect(\n",
    "        dbname=DB_NAME, user=DB_USER, password=DB_PASSWORD, host=DB_HOST, port=DB_PORT\n",
    "    )\n",
    "    cur = conn.cursor()\n",
    "    print(\"✅ Connected to PostgreSQL!\")\n",
    "\n",
    "    # 🛠 Insert data into the database\n",
    "    for _, row in df.iterrows():\n",
    "        cur.execute(\n",
    "            \"\"\"\n",
    "            INSERT INTO research_articles (content_type, identifier, language, url, title, creators, publication_name, subjects)\n",
    "            VALUES (%s, %s, %s, %s, %s, %s, %s, %s)\n",
    "            ON CONFLICT (identifier) DO NOTHING;\n",
    "            \"\"\",\n",
    "            (\n",
    "                row[\"contentType\"],\n",
    "                row[\"identifier\"],\n",
    "                row[\"language\"],\n",
    "                row[\"url\"],\n",
    "                row[\"title\"],\n",
    "                row[\"creators\"],\n",
    "                row[\"publicationName\"],\n",
    "                row[\"subjects\"],\n",
    "            ),\n",
    "        )\n",
    "\n",
    "    # Commit the changes\n",
    "    conn.commit()\n",
    "    print(\"✅ Data successfully inserted into PostgreSQL!\")\n",
    "\n",
    "except Exception as e:\n",
    "    print(\"❌ Database error:\", e)\n",
    "\n",
    "finally:\n",
    "    cur.close()\n",
    "    conn.close()\n",
    "    print(\"🔌 PostgreSQL connection closed.\")\n"
   ]
  }
 ],
 "metadata": {
  "kernelspec": {
   "display_name": "base",
   "language": "python",
   "name": "python3"
  },
  "language_info": {
   "codemirror_mode": {
    "name": "ipython",
    "version": 3
   },
   "file_extension": ".py",
   "mimetype": "text/x-python",
   "name": "python",
   "nbconvert_exporter": "python",
   "pygments_lexer": "ipython3",
   "version": "3.12.4"
  }
 },
 "nbformat": 4,
 "nbformat_minor": 2
}
